{
 "cells": [
  {
   "cell_type": "code",
   "execution_count": 1,
   "metadata": {},
   "outputs": [
    {
     "name": "stdout",
     "output_type": "stream",
     "text": [
      "Requirement already satisfied: langchain_community in c:\\users\\user\\onedrive\\maestria\\proyecto integrador\\proyecto_integrador_equipo_27\\.venv\\lib\\site-packages (0.3.1)\n",
      "Requirement already satisfied: PyYAML>=5.3 in c:\\users\\user\\onedrive\\maestria\\proyecto integrador\\proyecto_integrador_equipo_27\\.venv\\lib\\site-packages (from langchain_community) (6.0.2)\n",
      "Requirement already satisfied: SQLAlchemy<3,>=1.4 in c:\\users\\user\\onedrive\\maestria\\proyecto integrador\\proyecto_integrador_equipo_27\\.venv\\lib\\site-packages (from langchain_community) (2.0.35)\n",
      "Requirement already satisfied: aiohttp<4.0.0,>=3.8.3 in c:\\users\\user\\onedrive\\maestria\\proyecto integrador\\proyecto_integrador_equipo_27\\.venv\\lib\\site-packages (from langchain_community) (3.10.9)\n",
      "Requirement already satisfied: dataclasses-json<0.7,>=0.5.7 in c:\\users\\user\\onedrive\\maestria\\proyecto integrador\\proyecto_integrador_equipo_27\\.venv\\lib\\site-packages (from langchain_community) (0.6.7)\n",
      "Requirement already satisfied: langchain<0.4.0,>=0.3.1 in c:\\users\\user\\onedrive\\maestria\\proyecto integrador\\proyecto_integrador_equipo_27\\.venv\\lib\\site-packages (from langchain_community) (0.3.2)\n",
      "Requirement already satisfied: langchain-core<0.4.0,>=0.3.6 in c:\\users\\user\\onedrive\\maestria\\proyecto integrador\\proyecto_integrador_equipo_27\\.venv\\lib\\site-packages (from langchain_community) (0.3.9)\n",
      "Requirement already satisfied: langsmith<0.2.0,>=0.1.125 in c:\\users\\user\\onedrive\\maestria\\proyecto integrador\\proyecto_integrador_equipo_27\\.venv\\lib\\site-packages (from langchain_community) (0.1.131)\n",
      "Requirement already satisfied: numpy<2,>=1 in c:\\users\\user\\onedrive\\maestria\\proyecto integrador\\proyecto_integrador_equipo_27\\.venv\\lib\\site-packages (from langchain_community) (1.26.3)\n",
      "Requirement already satisfied: pydantic-settings<3.0.0,>=2.4.0 in c:\\users\\user\\onedrive\\maestria\\proyecto integrador\\proyecto_integrador_equipo_27\\.venv\\lib\\site-packages (from langchain_community) (2.5.2)\n",
      "Requirement already satisfied: requests<3,>=2 in c:\\users\\user\\onedrive\\maestria\\proyecto integrador\\proyecto_integrador_equipo_27\\.venv\\lib\\site-packages (from langchain_community) (2.28.1)\n",
      "Requirement already satisfied: tenacity!=8.4.0,<9.0.0,>=8.1.0 in c:\\users\\user\\onedrive\\maestria\\proyecto integrador\\proyecto_integrador_equipo_27\\.venv\\lib\\site-packages (from langchain_community) (8.5.0)\n",
      "Requirement already satisfied: aiohappyeyeballs>=2.3.0 in c:\\users\\user\\onedrive\\maestria\\proyecto integrador\\proyecto_integrador_equipo_27\\.venv\\lib\\site-packages (from aiohttp<4.0.0,>=3.8.3->langchain_community) (2.4.3)\n",
      "Requirement already satisfied: aiosignal>=1.1.2 in c:\\users\\user\\onedrive\\maestria\\proyecto integrador\\proyecto_integrador_equipo_27\\.venv\\lib\\site-packages (from aiohttp<4.0.0,>=3.8.3->langchain_community) (1.3.1)\n",
      "Requirement already satisfied: attrs>=17.3.0 in c:\\users\\user\\onedrive\\maestria\\proyecto integrador\\proyecto_integrador_equipo_27\\.venv\\lib\\site-packages (from aiohttp<4.0.0,>=3.8.3->langchain_community) (24.2.0)\n",
      "Requirement already satisfied: frozenlist>=1.1.1 in c:\\users\\user\\onedrive\\maestria\\proyecto integrador\\proyecto_integrador_equipo_27\\.venv\\lib\\site-packages (from aiohttp<4.0.0,>=3.8.3->langchain_community) (1.4.1)\n",
      "Requirement already satisfied: multidict<7.0,>=4.5 in c:\\users\\user\\onedrive\\maestria\\proyecto integrador\\proyecto_integrador_equipo_27\\.venv\\lib\\site-packages (from aiohttp<4.0.0,>=3.8.3->langchain_community) (6.1.0)\n",
      "Requirement already satisfied: yarl<2.0,>=1.12.0 in c:\\users\\user\\onedrive\\maestria\\proyecto integrador\\proyecto_integrador_equipo_27\\.venv\\lib\\site-packages (from aiohttp<4.0.0,>=3.8.3->langchain_community) (1.13.1)\n",
      "Requirement already satisfied: marshmallow<4.0.0,>=3.18.0 in c:\\users\\user\\onedrive\\maestria\\proyecto integrador\\proyecto_integrador_equipo_27\\.venv\\lib\\site-packages (from dataclasses-json<0.7,>=0.5.7->langchain_community) (3.22.0)\n",
      "Requirement already satisfied: typing-inspect<1,>=0.4.0 in c:\\users\\user\\onedrive\\maestria\\proyecto integrador\\proyecto_integrador_equipo_27\\.venv\\lib\\site-packages (from dataclasses-json<0.7,>=0.5.7->langchain_community) (0.9.0)\n",
      "Requirement already satisfied: langchain-text-splitters<0.4.0,>=0.3.0 in c:\\users\\user\\onedrive\\maestria\\proyecto integrador\\proyecto_integrador_equipo_27\\.venv\\lib\\site-packages (from langchain<0.4.0,>=0.3.1->langchain_community) (0.3.0)\n",
      "Requirement already satisfied: pydantic<3.0.0,>=2.7.4 in c:\\users\\user\\onedrive\\maestria\\proyecto integrador\\proyecto_integrador_equipo_27\\.venv\\lib\\site-packages (from langchain<0.4.0,>=0.3.1->langchain_community) (2.9.2)\n",
      "Requirement already satisfied: jsonpatch<2.0,>=1.33 in c:\\users\\user\\onedrive\\maestria\\proyecto integrador\\proyecto_integrador_equipo_27\\.venv\\lib\\site-packages (from langchain-core<0.4.0,>=0.3.6->langchain_community) (1.33)\n",
      "Requirement already satisfied: packaging<25,>=23.2 in c:\\users\\user\\onedrive\\maestria\\proyecto integrador\\proyecto_integrador_equipo_27\\.venv\\lib\\site-packages (from langchain-core<0.4.0,>=0.3.6->langchain_community) (24.1)\n",
      "Requirement already satisfied: typing-extensions>=4.7 in c:\\users\\user\\onedrive\\maestria\\proyecto integrador\\proyecto_integrador_equipo_27\\.venv\\lib\\site-packages (from langchain-core<0.4.0,>=0.3.6->langchain_community) (4.12.2)\n",
      "Requirement already satisfied: httpx<1,>=0.23.0 in c:\\users\\user\\onedrive\\maestria\\proyecto integrador\\proyecto_integrador_equipo_27\\.venv\\lib\\site-packages (from langsmith<0.2.0,>=0.1.125->langchain_community) (0.27.2)\n",
      "Requirement already satisfied: orjson<4.0.0,>=3.9.14 in c:\\users\\user\\onedrive\\maestria\\proyecto integrador\\proyecto_integrador_equipo_27\\.venv\\lib\\site-packages (from langsmith<0.2.0,>=0.1.125->langchain_community) (3.10.7)\n",
      "Requirement already satisfied: requests-toolbelt<2.0.0,>=1.0.0 in c:\\users\\user\\onedrive\\maestria\\proyecto integrador\\proyecto_integrador_equipo_27\\.venv\\lib\\site-packages (from langsmith<0.2.0,>=0.1.125->langchain_community) (1.0.0)\n",
      "Requirement already satisfied: python-dotenv>=0.21.0 in c:\\users\\user\\onedrive\\maestria\\proyecto integrador\\proyecto_integrador_equipo_27\\.venv\\lib\\site-packages (from pydantic-settings<3.0.0,>=2.4.0->langchain_community) (1.0.1)\n",
      "Requirement already satisfied: charset-normalizer<3,>=2 in c:\\users\\user\\onedrive\\maestria\\proyecto integrador\\proyecto_integrador_equipo_27\\.venv\\lib\\site-packages (from requests<3,>=2->langchain_community) (2.1.1)\n",
      "Requirement already satisfied: idna<4,>=2.5 in c:\\users\\user\\onedrive\\maestria\\proyecto integrador\\proyecto_integrador_equipo_27\\.venv\\lib\\site-packages (from requests<3,>=2->langchain_community) (3.4)\n",
      "Requirement already satisfied: urllib3<1.27,>=1.21.1 in c:\\users\\user\\onedrive\\maestria\\proyecto integrador\\proyecto_integrador_equipo_27\\.venv\\lib\\site-packages (from requests<3,>=2->langchain_community) (1.26.13)\n",
      "Requirement already satisfied: certifi>=2017.4.17 in c:\\users\\user\\onedrive\\maestria\\proyecto integrador\\proyecto_integrador_equipo_27\\.venv\\lib\\site-packages (from requests<3,>=2->langchain_community) (2022.12.7)\n",
      "Requirement already satisfied: greenlet!=0.4.17 in c:\\users\\user\\onedrive\\maestria\\proyecto integrador\\proyecto_integrador_equipo_27\\.venv\\lib\\site-packages (from SQLAlchemy<3,>=1.4->langchain_community) (3.1.1)\n",
      "Requirement already satisfied: anyio in c:\\users\\user\\onedrive\\maestria\\proyecto integrador\\proyecto_integrador_equipo_27\\.venv\\lib\\site-packages (from httpx<1,>=0.23.0->langsmith<0.2.0,>=0.1.125->langchain_community) (4.6.0)\n",
      "Requirement already satisfied: httpcore==1.* in c:\\users\\user\\onedrive\\maestria\\proyecto integrador\\proyecto_integrador_equipo_27\\.venv\\lib\\site-packages (from httpx<1,>=0.23.0->langsmith<0.2.0,>=0.1.125->langchain_community) (1.0.6)\n",
      "Requirement already satisfied: sniffio in c:\\users\\user\\onedrive\\maestria\\proyecto integrador\\proyecto_integrador_equipo_27\\.venv\\lib\\site-packages (from httpx<1,>=0.23.0->langsmith<0.2.0,>=0.1.125->langchain_community) (1.3.1)\n",
      "Requirement already satisfied: h11<0.15,>=0.13 in c:\\users\\user\\onedrive\\maestria\\proyecto integrador\\proyecto_integrador_equipo_27\\.venv\\lib\\site-packages (from httpcore==1.*->httpx<1,>=0.23.0->langsmith<0.2.0,>=0.1.125->langchain_community) (0.14.0)\n",
      "Requirement already satisfied: jsonpointer>=1.9 in c:\\users\\user\\onedrive\\maestria\\proyecto integrador\\proyecto_integrador_equipo_27\\.venv\\lib\\site-packages (from jsonpatch<2.0,>=1.33->langchain-core<0.4.0,>=0.3.6->langchain_community) (3.0.0)\n",
      "Requirement already satisfied: annotated-types>=0.6.0 in c:\\users\\user\\onedrive\\maestria\\proyecto integrador\\proyecto_integrador_equipo_27\\.venv\\lib\\site-packages (from pydantic<3.0.0,>=2.7.4->langchain<0.4.0,>=0.3.1->langchain_community) (0.7.0)\n",
      "Requirement already satisfied: pydantic-core==2.23.4 in c:\\users\\user\\onedrive\\maestria\\proyecto integrador\\proyecto_integrador_equipo_27\\.venv\\lib\\site-packages (from pydantic<3.0.0,>=2.7.4->langchain<0.4.0,>=0.3.1->langchain_community) (2.23.4)\n",
      "Requirement already satisfied: mypy-extensions>=0.3.0 in c:\\users\\user\\onedrive\\maestria\\proyecto integrador\\proyecto_integrador_equipo_27\\.venv\\lib\\site-packages (from typing-inspect<1,>=0.4.0->dataclasses-json<0.7,>=0.5.7->langchain_community) (1.0.0)\n",
      "Requirement already satisfied: InstructorEmbedding in c:\\users\\user\\onedrive\\maestria\\proyecto integrador\\proyecto_integrador_equipo_27\\.venv\\lib\\site-packages (1.0.1)\n",
      "Requirement already satisfied: sentence-transformers==2.2.2 in c:\\users\\user\\onedrive\\maestria\\proyecto integrador\\proyecto_integrador_equipo_27\\.venv\\lib\\site-packages (2.2.2)\n",
      "Requirement already satisfied: transformers<5.0.0,>=4.6.0 in c:\\users\\user\\onedrive\\maestria\\proyecto integrador\\proyecto_integrador_equipo_27\\.venv\\lib\\site-packages (from sentence-transformers==2.2.2) (4.45.1)\n",
      "Requirement already satisfied: tqdm in c:\\users\\user\\onedrive\\maestria\\proyecto integrador\\proyecto_integrador_equipo_27\\.venv\\lib\\site-packages (from sentence-transformers==2.2.2) (4.66.5)\n",
      "Requirement already satisfied: torch>=1.6.0 in c:\\users\\user\\onedrive\\maestria\\proyecto integrador\\proyecto_integrador_equipo_27\\.venv\\lib\\site-packages (from sentence-transformers==2.2.2) (2.0.1+cu117)\n",
      "Requirement already satisfied: torchvision in c:\\users\\user\\onedrive\\maestria\\proyecto integrador\\proyecto_integrador_equipo_27\\.venv\\lib\\site-packages (from sentence-transformers==2.2.2) (0.15.2+cu117)\n",
      "Requirement already satisfied: numpy in c:\\users\\user\\onedrive\\maestria\\proyecto integrador\\proyecto_integrador_equipo_27\\.venv\\lib\\site-packages (from sentence-transformers==2.2.2) (1.26.3)\n",
      "Requirement already satisfied: scikit-learn in c:\\users\\user\\onedrive\\maestria\\proyecto integrador\\proyecto_integrador_equipo_27\\.venv\\lib\\site-packages (from sentence-transformers==2.2.2) (1.5.2)\n",
      "Requirement already satisfied: scipy in c:\\users\\user\\onedrive\\maestria\\proyecto integrador\\proyecto_integrador_equipo_27\\.venv\\lib\\site-packages (from sentence-transformers==2.2.2) (1.14.1)\n",
      "Requirement already satisfied: nltk in c:\\users\\user\\onedrive\\maestria\\proyecto integrador\\proyecto_integrador_equipo_27\\.venv\\lib\\site-packages (from sentence-transformers==2.2.2) (3.9.1)\n",
      "Requirement already satisfied: sentencepiece in c:\\users\\user\\onedrive\\maestria\\proyecto integrador\\proyecto_integrador_equipo_27\\.venv\\lib\\site-packages (from sentence-transformers==2.2.2) (0.2.0)\n",
      "Requirement already satisfied: huggingface-hub>=0.4.0 in c:\\users\\user\\onedrive\\maestria\\proyecto integrador\\proyecto_integrador_equipo_27\\.venv\\lib\\site-packages (from sentence-transformers==2.2.2) (0.25.1)\n",
      "Requirement already satisfied: filelock in c:\\users\\user\\onedrive\\maestria\\proyecto integrador\\proyecto_integrador_equipo_27\\.venv\\lib\\site-packages (from huggingface-hub>=0.4.0->sentence-transformers==2.2.2) (3.13.1)\n",
      "Requirement already satisfied: fsspec>=2023.5.0 in c:\\users\\user\\onedrive\\maestria\\proyecto integrador\\proyecto_integrador_equipo_27\\.venv\\lib\\site-packages (from huggingface-hub>=0.4.0->sentence-transformers==2.2.2) (2024.9.0)\n",
      "Requirement already satisfied: packaging>=20.9 in c:\\users\\user\\onedrive\\maestria\\proyecto integrador\\proyecto_integrador_equipo_27\\.venv\\lib\\site-packages (from huggingface-hub>=0.4.0->sentence-transformers==2.2.2) (24.1)\n",
      "Requirement already satisfied: pyyaml>=5.1 in c:\\users\\user\\onedrive\\maestria\\proyecto integrador\\proyecto_integrador_equipo_27\\.venv\\lib\\site-packages (from huggingface-hub>=0.4.0->sentence-transformers==2.2.2) (6.0.2)\n",
      "Requirement already satisfied: requests in c:\\users\\user\\onedrive\\maestria\\proyecto integrador\\proyecto_integrador_equipo_27\\.venv\\lib\\site-packages (from huggingface-hub>=0.4.0->sentence-transformers==2.2.2) (2.28.1)\n",
      "Requirement already satisfied: typing-extensions>=3.7.4.3 in c:\\users\\user\\onedrive\\maestria\\proyecto integrador\\proyecto_integrador_equipo_27\\.venv\\lib\\site-packages (from huggingface-hub>=0.4.0->sentence-transformers==2.2.2) (4.12.2)\n",
      "Requirement already satisfied: sympy in c:\\users\\user\\onedrive\\maestria\\proyecto integrador\\proyecto_integrador_equipo_27\\.venv\\lib\\site-packages (from torch>=1.6.0->sentence-transformers==2.2.2) (1.12)\n",
      "Requirement already satisfied: networkx in c:\\users\\user\\onedrive\\maestria\\proyecto integrador\\proyecto_integrador_equipo_27\\.venv\\lib\\site-packages (from torch>=1.6.0->sentence-transformers==2.2.2) (3.2.1)\n",
      "Requirement already satisfied: jinja2 in c:\\users\\user\\onedrive\\maestria\\proyecto integrador\\proyecto_integrador_equipo_27\\.venv\\lib\\site-packages (from torch>=1.6.0->sentence-transformers==2.2.2) (3.1.3)\n",
      "Requirement already satisfied: colorama in c:\\users\\user\\onedrive\\maestria\\proyecto integrador\\proyecto_integrador_equipo_27\\.venv\\lib\\site-packages (from tqdm->sentence-transformers==2.2.2) (0.4.6)\n",
      "Requirement already satisfied: regex!=2019.12.17 in c:\\users\\user\\onedrive\\maestria\\proyecto integrador\\proyecto_integrador_equipo_27\\.venv\\lib\\site-packages (from transformers<5.0.0,>=4.6.0->sentence-transformers==2.2.2) (2024.9.11)\n",
      "Requirement already satisfied: safetensors>=0.4.1 in c:\\users\\user\\onedrive\\maestria\\proyecto integrador\\proyecto_integrador_equipo_27\\.venv\\lib\\site-packages (from transformers<5.0.0,>=4.6.0->sentence-transformers==2.2.2) (0.4.5)\n",
      "Requirement already satisfied: tokenizers<0.21,>=0.20 in c:\\users\\user\\onedrive\\maestria\\proyecto integrador\\proyecto_integrador_equipo_27\\.venv\\lib\\site-packages (from transformers<5.0.0,>=4.6.0->sentence-transformers==2.2.2) (0.20.0)\n",
      "Requirement already satisfied: click in c:\\users\\user\\onedrive\\maestria\\proyecto integrador\\proyecto_integrador_equipo_27\\.venv\\lib\\site-packages (from nltk->sentence-transformers==2.2.2) (8.1.7)\n",
      "Requirement already satisfied: joblib in c:\\users\\user\\onedrive\\maestria\\proyecto integrador\\proyecto_integrador_equipo_27\\.venv\\lib\\site-packages (from nltk->sentence-transformers==2.2.2) (1.4.2)\n",
      "Requirement already satisfied: threadpoolctl>=3.1.0 in c:\\users\\user\\onedrive\\maestria\\proyecto integrador\\proyecto_integrador_equipo_27\\.venv\\lib\\site-packages (from scikit-learn->sentence-transformers==2.2.2) (3.5.0)\n",
      "Requirement already satisfied: pillow!=8.3.*,>=5.3.0 in c:\\users\\user\\onedrive\\maestria\\proyecto integrador\\proyecto_integrador_equipo_27\\.venv\\lib\\site-packages (from torchvision->sentence-transformers==2.2.2) (10.2.0)\n",
      "Requirement already satisfied: MarkupSafe>=2.0 in c:\\users\\user\\onedrive\\maestria\\proyecto integrador\\proyecto_integrador_equipo_27\\.venv\\lib\\site-packages (from jinja2->torch>=1.6.0->sentence-transformers==2.2.2) (2.1.5)\n",
      "Requirement already satisfied: charset-normalizer<3,>=2 in c:\\users\\user\\onedrive\\maestria\\proyecto integrador\\proyecto_integrador_equipo_27\\.venv\\lib\\site-packages (from requests->huggingface-hub>=0.4.0->sentence-transformers==2.2.2) (2.1.1)\n",
      "Requirement already satisfied: idna<4,>=2.5 in c:\\users\\user\\onedrive\\maestria\\proyecto integrador\\proyecto_integrador_equipo_27\\.venv\\lib\\site-packages (from requests->huggingface-hub>=0.4.0->sentence-transformers==2.2.2) (3.4)\n",
      "Requirement already satisfied: urllib3<1.27,>=1.21.1 in c:\\users\\user\\onedrive\\maestria\\proyecto integrador\\proyecto_integrador_equipo_27\\.venv\\lib\\site-packages (from requests->huggingface-hub>=0.4.0->sentence-transformers==2.2.2) (1.26.13)\n",
      "Requirement already satisfied: certifi>=2017.4.17 in c:\\users\\user\\onedrive\\maestria\\proyecto integrador\\proyecto_integrador_equipo_27\\.venv\\lib\\site-packages (from requests->huggingface-hub>=0.4.0->sentence-transformers==2.2.2) (2022.12.7)\n",
      "Requirement already satisfied: mpmath>=0.19 in c:\\users\\user\\onedrive\\maestria\\proyecto integrador\\proyecto_integrador_equipo_27\\.venv\\lib\\site-packages (from sympy->torch>=1.6.0->sentence-transformers==2.2.2) (1.3.0)\n",
      "Requirement already satisfied: pip in c:\\users\\user\\onedrive\\maestria\\proyecto integrador\\proyecto_integrador_equipo_27\\.venv\\lib\\site-packages (24.2)\n"
     ]
    },
    {
     "name": "stderr",
     "output_type": "stream",
     "text": [
      "ERROR: Could not find a version that satisfies the requirement install (from versions: none)\n",
      "ERROR: No matching distribution found for install\n"
     ]
    },
    {
     "name": "stdout",
     "output_type": "stream",
     "text": [
      "Requirement already satisfied: chromadb in c:\\users\\user\\onedrive\\maestria\\proyecto integrador\\proyecto_integrador_equipo_27\\.venv\\lib\\site-packages (0.5.11)\n",
      "Requirement already satisfied: build>=1.0.3 in c:\\users\\user\\onedrive\\maestria\\proyecto integrador\\proyecto_integrador_equipo_27\\.venv\\lib\\site-packages (from chromadb) (1.2.2)\n",
      "Requirement already satisfied: pydantic>=1.9 in c:\\users\\user\\onedrive\\maestria\\proyecto integrador\\proyecto_integrador_equipo_27\\.venv\\lib\\site-packages (from chromadb) (2.9.2)\n",
      "Requirement already satisfied: chroma-hnswlib==0.7.6 in c:\\users\\user\\onedrive\\maestria\\proyecto integrador\\proyecto_integrador_equipo_27\\.venv\\lib\\site-packages (from chromadb) (0.7.6)\n",
      "Requirement already satisfied: fastapi>=0.95.2 in c:\\users\\user\\onedrive\\maestria\\proyecto integrador\\proyecto_integrador_equipo_27\\.venv\\lib\\site-packages (from chromadb) (0.115.0)\n",
      "Requirement already satisfied: uvicorn>=0.18.3 in c:\\users\\user\\onedrive\\maestria\\proyecto integrador\\proyecto_integrador_equipo_27\\.venv\\lib\\site-packages (from uvicorn[standard]>=0.18.3->chromadb) (0.31.0)\n",
      "Requirement already satisfied: numpy>=1.22.5 in c:\\users\\user\\onedrive\\maestria\\proyecto integrador\\proyecto_integrador_equipo_27\\.venv\\lib\\site-packages (from chromadb) (1.26.3)\n",
      "Requirement already satisfied: posthog>=2.4.0 in c:\\users\\user\\onedrive\\maestria\\proyecto integrador\\proyecto_integrador_equipo_27\\.venv\\lib\\site-packages (from chromadb) (3.7.0)\n",
      "Requirement already satisfied: typing-extensions>=4.5.0 in c:\\users\\user\\onedrive\\maestria\\proyecto integrador\\proyecto_integrador_equipo_27\\.venv\\lib\\site-packages (from chromadb) (4.12.2)\n",
      "Requirement already satisfied: onnxruntime>=1.14.1 in c:\\users\\user\\onedrive\\maestria\\proyecto integrador\\proyecto_integrador_equipo_27\\.venv\\lib\\site-packages (from chromadb) (1.19.2)\n",
      "Requirement already satisfied: opentelemetry-api>=1.2.0 in c:\\users\\user\\onedrive\\maestria\\proyecto integrador\\proyecto_integrador_equipo_27\\.venv\\lib\\site-packages (from chromadb) (1.27.0)\n",
      "Requirement already satisfied: opentelemetry-exporter-otlp-proto-grpc>=1.2.0 in c:\\users\\user\\onedrive\\maestria\\proyecto integrador\\proyecto_integrador_equipo_27\\.venv\\lib\\site-packages (from chromadb) (1.27.0)\n",
      "Requirement already satisfied: opentelemetry-instrumentation-fastapi>=0.41b0 in c:\\users\\user\\onedrive\\maestria\\proyecto integrador\\proyecto_integrador_equipo_27\\.venv\\lib\\site-packages (from chromadb) (0.48b0)\n",
      "Requirement already satisfied: opentelemetry-sdk>=1.2.0 in c:\\users\\user\\onedrive\\maestria\\proyecto integrador\\proyecto_integrador_equipo_27\\.venv\\lib\\site-packages (from chromadb) (1.27.0)\n",
      "Requirement already satisfied: tokenizers>=0.13.2 in c:\\users\\user\\onedrive\\maestria\\proyecto integrador\\proyecto_integrador_equipo_27\\.venv\\lib\\site-packages (from chromadb) (0.20.0)\n",
      "Requirement already satisfied: pypika>=0.48.9 in c:\\users\\user\\onedrive\\maestria\\proyecto integrador\\proyecto_integrador_equipo_27\\.venv\\lib\\site-packages (from chromadb) (0.48.9)\n",
      "Requirement already satisfied: tqdm>=4.65.0 in c:\\users\\user\\onedrive\\maestria\\proyecto integrador\\proyecto_integrador_equipo_27\\.venv\\lib\\site-packages (from chromadb) (4.66.5)\n",
      "Requirement already satisfied: overrides>=7.3.1 in c:\\users\\user\\onedrive\\maestria\\proyecto integrador\\proyecto_integrador_equipo_27\\.venv\\lib\\site-packages (from chromadb) (7.7.0)\n",
      "Requirement already satisfied: importlib-resources in c:\\users\\user\\onedrive\\maestria\\proyecto integrador\\proyecto_integrador_equipo_27\\.venv\\lib\\site-packages (from chromadb) (6.4.5)\n",
      "Requirement already satisfied: grpcio>=1.58.0 in c:\\users\\user\\onedrive\\maestria\\proyecto integrador\\proyecto_integrador_equipo_27\\.venv\\lib\\site-packages (from chromadb) (1.66.2)\n",
      "Requirement already satisfied: bcrypt>=4.0.1 in c:\\users\\user\\onedrive\\maestria\\proyecto integrador\\proyecto_integrador_equipo_27\\.venv\\lib\\site-packages (from chromadb) (4.2.0)\n",
      "Requirement already satisfied: typer>=0.9.0 in c:\\users\\user\\onedrive\\maestria\\proyecto integrador\\proyecto_integrador_equipo_27\\.venv\\lib\\site-packages (from chromadb) (0.12.5)\n",
      "Requirement already satisfied: kubernetes>=28.1.0 in c:\\users\\user\\onedrive\\maestria\\proyecto integrador\\proyecto_integrador_equipo_27\\.venv\\lib\\site-packages (from chromadb) (31.0.0)\n",
      "Requirement already satisfied: tenacity>=8.2.3 in c:\\users\\user\\onedrive\\maestria\\proyecto integrador\\proyecto_integrador_equipo_27\\.venv\\lib\\site-packages (from chromadb) (8.5.0)\n",
      "Requirement already satisfied: PyYAML>=6.0.0 in c:\\users\\user\\onedrive\\maestria\\proyecto integrador\\proyecto_integrador_equipo_27\\.venv\\lib\\site-packages (from chromadb) (6.0.2)\n",
      "Requirement already satisfied: mmh3>=4.0.1 in c:\\users\\user\\onedrive\\maestria\\proyecto integrador\\proyecto_integrador_equipo_27\\.venv\\lib\\site-packages (from chromadb) (5.0.1)\n",
      "Requirement already satisfied: orjson>=3.9.12 in c:\\users\\user\\onedrive\\maestria\\proyecto integrador\\proyecto_integrador_equipo_27\\.venv\\lib\\site-packages (from chromadb) (3.10.7)\n",
      "Requirement already satisfied: httpx>=0.27.0 in c:\\users\\user\\onedrive\\maestria\\proyecto integrador\\proyecto_integrador_equipo_27\\.venv\\lib\\site-packages (from chromadb) (0.27.2)\n",
      "Requirement already satisfied: rich>=10.11.0 in c:\\users\\user\\onedrive\\maestria\\proyecto integrador\\proyecto_integrador_equipo_27\\.venv\\lib\\site-packages (from chromadb) (13.9.2)\n",
      "Requirement already satisfied: packaging>=19.1 in c:\\users\\user\\onedrive\\maestria\\proyecto integrador\\proyecto_integrador_equipo_27\\.venv\\lib\\site-packages (from build>=1.0.3->chromadb) (24.1)\n",
      "Requirement already satisfied: pyproject_hooks in c:\\users\\user\\onedrive\\maestria\\proyecto integrador\\proyecto_integrador_equipo_27\\.venv\\lib\\site-packages (from build>=1.0.3->chromadb) (1.2.0)\n",
      "Requirement already satisfied: colorama in c:\\users\\user\\onedrive\\maestria\\proyecto integrador\\proyecto_integrador_equipo_27\\.venv\\lib\\site-packages (from build>=1.0.3->chromadb) (0.4.6)\n",
      "Requirement already satisfied: starlette<0.39.0,>=0.37.2 in c:\\users\\user\\onedrive\\maestria\\proyecto integrador\\proyecto_integrador_equipo_27\\.venv\\lib\\site-packages (from fastapi>=0.95.2->chromadb) (0.38.6)\n",
      "Requirement already satisfied: anyio in c:\\users\\user\\onedrive\\maestria\\proyecto integrador\\proyecto_integrador_equipo_27\\.venv\\lib\\site-packages (from httpx>=0.27.0->chromadb) (4.6.0)\n",
      "Requirement already satisfied: certifi in c:\\users\\user\\onedrive\\maestria\\proyecto integrador\\proyecto_integrador_equipo_27\\.venv\\lib\\site-packages (from httpx>=0.27.0->chromadb) (2022.12.7)\n",
      "Requirement already satisfied: httpcore==1.* in c:\\users\\user\\onedrive\\maestria\\proyecto integrador\\proyecto_integrador_equipo_27\\.venv\\lib\\site-packages (from httpx>=0.27.0->chromadb) (1.0.6)\n",
      "Requirement already satisfied: idna in c:\\users\\user\\onedrive\\maestria\\proyecto integrador\\proyecto_integrador_equipo_27\\.venv\\lib\\site-packages (from httpx>=0.27.0->chromadb) (3.4)\n",
      "Requirement already satisfied: sniffio in c:\\users\\user\\onedrive\\maestria\\proyecto integrador\\proyecto_integrador_equipo_27\\.venv\\lib\\site-packages (from httpx>=0.27.0->chromadb) (1.3.1)\n",
      "Requirement already satisfied: h11<0.15,>=0.13 in c:\\users\\user\\onedrive\\maestria\\proyecto integrador\\proyecto_integrador_equipo_27\\.venv\\lib\\site-packages (from httpcore==1.*->httpx>=0.27.0->chromadb) (0.14.0)\n",
      "Requirement already satisfied: six>=1.9.0 in c:\\users\\user\\onedrive\\maestria\\proyecto integrador\\proyecto_integrador_equipo_27\\.venv\\lib\\site-packages (from kubernetes>=28.1.0->chromadb) (1.16.0)\n",
      "Requirement already satisfied: python-dateutil>=2.5.3 in c:\\users\\user\\onedrive\\maestria\\proyecto integrador\\proyecto_integrador_equipo_27\\.venv\\lib\\site-packages (from kubernetes>=28.1.0->chromadb) (2.9.0.post0)\n",
      "Requirement already satisfied: google-auth>=1.0.1 in c:\\users\\user\\onedrive\\maestria\\proyecto integrador\\proyecto_integrador_equipo_27\\.venv\\lib\\site-packages (from kubernetes>=28.1.0->chromadb) (2.35.0)\n",
      "Requirement already satisfied: websocket-client!=0.40.0,!=0.41.*,!=0.42.*,>=0.32.0 in c:\\users\\user\\onedrive\\maestria\\proyecto integrador\\proyecto_integrador_equipo_27\\.venv\\lib\\site-packages (from kubernetes>=28.1.0->chromadb) (1.8.0)\n",
      "Requirement already satisfied: requests in c:\\users\\user\\onedrive\\maestria\\proyecto integrador\\proyecto_integrador_equipo_27\\.venv\\lib\\site-packages (from kubernetes>=28.1.0->chromadb) (2.28.1)\n",
      "Requirement already satisfied: requests-oauthlib in c:\\users\\user\\onedrive\\maestria\\proyecto integrador\\proyecto_integrador_equipo_27\\.venv\\lib\\site-packages (from kubernetes>=28.1.0->chromadb) (2.0.0)\n",
      "Requirement already satisfied: oauthlib>=3.2.2 in c:\\users\\user\\onedrive\\maestria\\proyecto integrador\\proyecto_integrador_equipo_27\\.venv\\lib\\site-packages (from kubernetes>=28.1.0->chromadb) (3.2.2)\n",
      "Requirement already satisfied: urllib3>=1.24.2 in c:\\users\\user\\onedrive\\maestria\\proyecto integrador\\proyecto_integrador_equipo_27\\.venv\\lib\\site-packages (from kubernetes>=28.1.0->chromadb) (1.26.13)\n",
      "Requirement already satisfied: durationpy>=0.7 in c:\\users\\user\\onedrive\\maestria\\proyecto integrador\\proyecto_integrador_equipo_27\\.venv\\lib\\site-packages (from kubernetes>=28.1.0->chromadb) (0.9)\n",
      "Requirement already satisfied: coloredlogs in c:\\users\\user\\onedrive\\maestria\\proyecto integrador\\proyecto_integrador_equipo_27\\.venv\\lib\\site-packages (from onnxruntime>=1.14.1->chromadb) (15.0.1)\n",
      "Requirement already satisfied: flatbuffers in c:\\users\\user\\onedrive\\maestria\\proyecto integrador\\proyecto_integrador_equipo_27\\.venv\\lib\\site-packages (from onnxruntime>=1.14.1->chromadb) (24.3.25)\n",
      "Requirement already satisfied: protobuf in c:\\users\\user\\onedrive\\maestria\\proyecto integrador\\proyecto_integrador_equipo_27\\.venv\\lib\\site-packages (from onnxruntime>=1.14.1->chromadb) (4.25.5)\n",
      "Requirement already satisfied: sympy in c:\\users\\user\\onedrive\\maestria\\proyecto integrador\\proyecto_integrador_equipo_27\\.venv\\lib\\site-packages (from onnxruntime>=1.14.1->chromadb) (1.12)\n",
      "Requirement already satisfied: deprecated>=1.2.6 in c:\\users\\user\\onedrive\\maestria\\proyecto integrador\\proyecto_integrador_equipo_27\\.venv\\lib\\site-packages (from opentelemetry-api>=1.2.0->chromadb) (1.2.14)\n",
      "Requirement already satisfied: importlib-metadata<=8.4.0,>=6.0 in c:\\users\\user\\onedrive\\maestria\\proyecto integrador\\proyecto_integrador_equipo_27\\.venv\\lib\\site-packages (from opentelemetry-api>=1.2.0->chromadb) (8.4.0)\n",
      "Requirement already satisfied: googleapis-common-protos~=1.52 in c:\\users\\user\\onedrive\\maestria\\proyecto integrador\\proyecto_integrador_equipo_27\\.venv\\lib\\site-packages (from opentelemetry-exporter-otlp-proto-grpc>=1.2.0->chromadb) (1.65.0)\n",
      "Requirement already satisfied: opentelemetry-exporter-otlp-proto-common==1.27.0 in c:\\users\\user\\onedrive\\maestria\\proyecto integrador\\proyecto_integrador_equipo_27\\.venv\\lib\\site-packages (from opentelemetry-exporter-otlp-proto-grpc>=1.2.0->chromadb) (1.27.0)\n",
      "Requirement already satisfied: opentelemetry-proto==1.27.0 in c:\\users\\user\\onedrive\\maestria\\proyecto integrador\\proyecto_integrador_equipo_27\\.venv\\lib\\site-packages (from opentelemetry-exporter-otlp-proto-grpc>=1.2.0->chromadb) (1.27.0)\n",
      "Requirement already satisfied: opentelemetry-instrumentation-asgi==0.48b0 in c:\\users\\user\\onedrive\\maestria\\proyecto integrador\\proyecto_integrador_equipo_27\\.venv\\lib\\site-packages (from opentelemetry-instrumentation-fastapi>=0.41b0->chromadb) (0.48b0)\n",
      "Requirement already satisfied: opentelemetry-instrumentation==0.48b0 in c:\\users\\user\\onedrive\\maestria\\proyecto integrador\\proyecto_integrador_equipo_27\\.venv\\lib\\site-packages (from opentelemetry-instrumentation-fastapi>=0.41b0->chromadb) (0.48b0)\n",
      "Requirement already satisfied: opentelemetry-semantic-conventions==0.48b0 in c:\\users\\user\\onedrive\\maestria\\proyecto integrador\\proyecto_integrador_equipo_27\\.venv\\lib\\site-packages (from opentelemetry-instrumentation-fastapi>=0.41b0->chromadb) (0.48b0)\n",
      "Requirement already satisfied: opentelemetry-util-http==0.48b0 in c:\\users\\user\\onedrive\\maestria\\proyecto integrador\\proyecto_integrador_equipo_27\\.venv\\lib\\site-packages (from opentelemetry-instrumentation-fastapi>=0.41b0->chromadb) (0.48b0)\n",
      "Requirement already satisfied: setuptools>=16.0 in c:\\users\\user\\onedrive\\maestria\\proyecto integrador\\proyecto_integrador_equipo_27\\.venv\\lib\\site-packages (from opentelemetry-instrumentation==0.48b0->opentelemetry-instrumentation-fastapi>=0.41b0->chromadb) (65.5.0)\n",
      "Requirement already satisfied: wrapt<2.0.0,>=1.0.0 in c:\\users\\user\\onedrive\\maestria\\proyecto integrador\\proyecto_integrador_equipo_27\\.venv\\lib\\site-packages (from opentelemetry-instrumentation==0.48b0->opentelemetry-instrumentation-fastapi>=0.41b0->chromadb) (1.16.0)\n",
      "Requirement already satisfied: asgiref~=3.0 in c:\\users\\user\\onedrive\\maestria\\proyecto integrador\\proyecto_integrador_equipo_27\\.venv\\lib\\site-packages (from opentelemetry-instrumentation-asgi==0.48b0->opentelemetry-instrumentation-fastapi>=0.41b0->chromadb) (3.8.1)\n",
      "Requirement already satisfied: monotonic>=1.5 in c:\\users\\user\\onedrive\\maestria\\proyecto integrador\\proyecto_integrador_equipo_27\\.venv\\lib\\site-packages (from posthog>=2.4.0->chromadb) (1.6)\n",
      "Requirement already satisfied: backoff>=1.10.0 in c:\\users\\user\\onedrive\\maestria\\proyecto integrador\\proyecto_integrador_equipo_27\\.venv\\lib\\site-packages (from posthog>=2.4.0->chromadb) (2.2.1)\n",
      "Requirement already satisfied: annotated-types>=0.6.0 in c:\\users\\user\\onedrive\\maestria\\proyecto integrador\\proyecto_integrador_equipo_27\\.venv\\lib\\site-packages (from pydantic>=1.9->chromadb) (0.7.0)\n",
      "Requirement already satisfied: pydantic-core==2.23.4 in c:\\users\\user\\onedrive\\maestria\\proyecto integrador\\proyecto_integrador_equipo_27\\.venv\\lib\\site-packages (from pydantic>=1.9->chromadb) (2.23.4)\n",
      "Requirement already satisfied: markdown-it-py>=2.2.0 in c:\\users\\user\\onedrive\\maestria\\proyecto integrador\\proyecto_integrador_equipo_27\\.venv\\lib\\site-packages (from rich>=10.11.0->chromadb) (3.0.0)\n",
      "Requirement already satisfied: pygments<3.0.0,>=2.13.0 in c:\\users\\user\\onedrive\\maestria\\proyecto integrador\\proyecto_integrador_equipo_27\\.venv\\lib\\site-packages (from rich>=10.11.0->chromadb) (2.18.0)\n",
      "Requirement already satisfied: huggingface-hub<1.0,>=0.16.4 in c:\\users\\user\\onedrive\\maestria\\proyecto integrador\\proyecto_integrador_equipo_27\\.venv\\lib\\site-packages (from tokenizers>=0.13.2->chromadb) (0.25.1)\n",
      "Requirement already satisfied: click>=8.0.0 in c:\\users\\user\\onedrive\\maestria\\proyecto integrador\\proyecto_integrador_equipo_27\\.venv\\lib\\site-packages (from typer>=0.9.0->chromadb) (8.1.7)\n",
      "Requirement already satisfied: shellingham>=1.3.0 in c:\\users\\user\\onedrive\\maestria\\proyecto integrador\\proyecto_integrador_equipo_27\\.venv\\lib\\site-packages (from typer>=0.9.0->chromadb) (1.5.4)\n",
      "Requirement already satisfied: httptools>=0.5.0 in c:\\users\\user\\onedrive\\maestria\\proyecto integrador\\proyecto_integrador_equipo_27\\.venv\\lib\\site-packages (from uvicorn[standard]>=0.18.3->chromadb) (0.6.1)\n",
      "Requirement already satisfied: python-dotenv>=0.13 in c:\\users\\user\\onedrive\\maestria\\proyecto integrador\\proyecto_integrador_equipo_27\\.venv\\lib\\site-packages (from uvicorn[standard]>=0.18.3->chromadb) (1.0.1)\n",
      "Requirement already satisfied: watchfiles>=0.13 in c:\\users\\user\\onedrive\\maestria\\proyecto integrador\\proyecto_integrador_equipo_27\\.venv\\lib\\site-packages (from uvicorn[standard]>=0.18.3->chromadb) (0.24.0)\n",
      "Requirement already satisfied: websockets>=10.4 in c:\\users\\user\\onedrive\\maestria\\proyecto integrador\\proyecto_integrador_equipo_27\\.venv\\lib\\site-packages (from uvicorn[standard]>=0.18.3->chromadb) (13.1)\n",
      "Requirement already satisfied: cachetools<6.0,>=2.0.0 in c:\\users\\user\\onedrive\\maestria\\proyecto integrador\\proyecto_integrador_equipo_27\\.venv\\lib\\site-packages (from google-auth>=1.0.1->kubernetes>=28.1.0->chromadb) (5.5.0)\n",
      "Requirement already satisfied: pyasn1-modules>=0.2.1 in c:\\users\\user\\onedrive\\maestria\\proyecto integrador\\proyecto_integrador_equipo_27\\.venv\\lib\\site-packages (from google-auth>=1.0.1->kubernetes>=28.1.0->chromadb) (0.4.1)\n",
      "Requirement already satisfied: rsa<5,>=3.1.4 in c:\\users\\user\\onedrive\\maestria\\proyecto integrador\\proyecto_integrador_equipo_27\\.venv\\lib\\site-packages (from google-auth>=1.0.1->kubernetes>=28.1.0->chromadb) (4.9)\n",
      "Requirement already satisfied: filelock in c:\\users\\user\\onedrive\\maestria\\proyecto integrador\\proyecto_integrador_equipo_27\\.venv\\lib\\site-packages (from huggingface-hub<1.0,>=0.16.4->tokenizers>=0.13.2->chromadb) (3.13.1)\n",
      "Requirement already satisfied: fsspec>=2023.5.0 in c:\\users\\user\\onedrive\\maestria\\proyecto integrador\\proyecto_integrador_equipo_27\\.venv\\lib\\site-packages (from huggingface-hub<1.0,>=0.16.4->tokenizers>=0.13.2->chromadb) (2024.9.0)\n",
      "Requirement already satisfied: zipp>=0.5 in c:\\users\\user\\onedrive\\maestria\\proyecto integrador\\proyecto_integrador_equipo_27\\.venv\\lib\\site-packages (from importlib-metadata<=8.4.0,>=6.0->opentelemetry-api>=1.2.0->chromadb) (3.20.2)\n",
      "Requirement already satisfied: mdurl~=0.1 in c:\\users\\user\\onedrive\\maestria\\proyecto integrador\\proyecto_integrador_equipo_27\\.venv\\lib\\site-packages (from markdown-it-py>=2.2.0->rich>=10.11.0->chromadb) (0.1.2)\n",
      "Requirement already satisfied: charset-normalizer<3,>=2 in c:\\users\\user\\onedrive\\maestria\\proyecto integrador\\proyecto_integrador_equipo_27\\.venv\\lib\\site-packages (from requests->kubernetes>=28.1.0->chromadb) (2.1.1)\n",
      "Requirement already satisfied: humanfriendly>=9.1 in c:\\users\\user\\onedrive\\maestria\\proyecto integrador\\proyecto_integrador_equipo_27\\.venv\\lib\\site-packages (from coloredlogs->onnxruntime>=1.14.1->chromadb) (10.0)\n",
      "Requirement already satisfied: mpmath>=0.19 in c:\\users\\user\\onedrive\\maestria\\proyecto integrador\\proyecto_integrador_equipo_27\\.venv\\lib\\site-packages (from sympy->onnxruntime>=1.14.1->chromadb) (1.3.0)\n",
      "Requirement already satisfied: pyreadline3 in c:\\users\\user\\onedrive\\maestria\\proyecto integrador\\proyecto_integrador_equipo_27\\.venv\\lib\\site-packages (from humanfriendly>=9.1->coloredlogs->onnxruntime>=1.14.1->chromadb) (3.5.4)\n",
      "Requirement already satisfied: pyasn1<0.7.0,>=0.4.6 in c:\\users\\user\\onedrive\\maestria\\proyecto integrador\\proyecto_integrador_equipo_27\\.venv\\lib\\site-packages (from pyasn1-modules>=0.2.1->google-auth>=1.0.1->kubernetes>=28.1.0->chromadb) (0.6.1)\n",
      "Requirement already satisfied: langchain_ollama in c:\\users\\user\\onedrive\\maestria\\proyecto integrador\\proyecto_integrador_equipo_27\\.venv\\lib\\site-packages (0.2.0)\n",
      "Requirement already satisfied: langchain-core<0.4.0,>=0.3.0 in c:\\users\\user\\onedrive\\maestria\\proyecto integrador\\proyecto_integrador_equipo_27\\.venv\\lib\\site-packages (from langchain_ollama) (0.3.9)\n",
      "Requirement already satisfied: ollama<1,>=0.3.0 in c:\\users\\user\\onedrive\\maestria\\proyecto integrador\\proyecto_integrador_equipo_27\\.venv\\lib\\site-packages (from langchain_ollama) (0.3.3)\n",
      "Requirement already satisfied: PyYAML>=5.3 in c:\\users\\user\\onedrive\\maestria\\proyecto integrador\\proyecto_integrador_equipo_27\\.venv\\lib\\site-packages (from langchain-core<0.4.0,>=0.3.0->langchain_ollama) (6.0.2)\n",
      "Requirement already satisfied: jsonpatch<2.0,>=1.33 in c:\\users\\user\\onedrive\\maestria\\proyecto integrador\\proyecto_integrador_equipo_27\\.venv\\lib\\site-packages (from langchain-core<0.4.0,>=0.3.0->langchain_ollama) (1.33)\n",
      "Requirement already satisfied: langsmith<0.2.0,>=0.1.125 in c:\\users\\user\\onedrive\\maestria\\proyecto integrador\\proyecto_integrador_equipo_27\\.venv\\lib\\site-packages (from langchain-core<0.4.0,>=0.3.0->langchain_ollama) (0.1.131)\n",
      "Requirement already satisfied: packaging<25,>=23.2 in c:\\users\\user\\onedrive\\maestria\\proyecto integrador\\proyecto_integrador_equipo_27\\.venv\\lib\\site-packages (from langchain-core<0.4.0,>=0.3.0->langchain_ollama) (24.1)\n",
      "Requirement already satisfied: pydantic<3.0.0,>=2.5.2 in c:\\users\\user\\onedrive\\maestria\\proyecto integrador\\proyecto_integrador_equipo_27\\.venv\\lib\\site-packages (from langchain-core<0.4.0,>=0.3.0->langchain_ollama) (2.9.2)\n",
      "Requirement already satisfied: tenacity!=8.4.0,<9.0.0,>=8.1.0 in c:\\users\\user\\onedrive\\maestria\\proyecto integrador\\proyecto_integrador_equipo_27\\.venv\\lib\\site-packages (from langchain-core<0.4.0,>=0.3.0->langchain_ollama) (8.5.0)\n",
      "Requirement already satisfied: typing-extensions>=4.7 in c:\\users\\user\\onedrive\\maestria\\proyecto integrador\\proyecto_integrador_equipo_27\\.venv\\lib\\site-packages (from langchain-core<0.4.0,>=0.3.0->langchain_ollama) (4.12.2)\n",
      "Requirement already satisfied: httpx<0.28.0,>=0.27.0 in c:\\users\\user\\onedrive\\maestria\\proyecto integrador\\proyecto_integrador_equipo_27\\.venv\\lib\\site-packages (from ollama<1,>=0.3.0->langchain_ollama) (0.27.2)\n",
      "Requirement already satisfied: anyio in c:\\users\\user\\onedrive\\maestria\\proyecto integrador\\proyecto_integrador_equipo_27\\.venv\\lib\\site-packages (from httpx<0.28.0,>=0.27.0->ollama<1,>=0.3.0->langchain_ollama) (4.6.0)\n",
      "Requirement already satisfied: certifi in c:\\users\\user\\onedrive\\maestria\\proyecto integrador\\proyecto_integrador_equipo_27\\.venv\\lib\\site-packages (from httpx<0.28.0,>=0.27.0->ollama<1,>=0.3.0->langchain_ollama) (2022.12.7)\n",
      "Requirement already satisfied: httpcore==1.* in c:\\users\\user\\onedrive\\maestria\\proyecto integrador\\proyecto_integrador_equipo_27\\.venv\\lib\\site-packages (from httpx<0.28.0,>=0.27.0->ollama<1,>=0.3.0->langchain_ollama) (1.0.6)\n",
      "Requirement already satisfied: idna in c:\\users\\user\\onedrive\\maestria\\proyecto integrador\\proyecto_integrador_equipo_27\\.venv\\lib\\site-packages (from httpx<0.28.0,>=0.27.0->ollama<1,>=0.3.0->langchain_ollama) (3.4)\n",
      "Requirement already satisfied: sniffio in c:\\users\\user\\onedrive\\maestria\\proyecto integrador\\proyecto_integrador_equipo_27\\.venv\\lib\\site-packages (from httpx<0.28.0,>=0.27.0->ollama<1,>=0.3.0->langchain_ollama) (1.3.1)\n",
      "Requirement already satisfied: h11<0.15,>=0.13 in c:\\users\\user\\onedrive\\maestria\\proyecto integrador\\proyecto_integrador_equipo_27\\.venv\\lib\\site-packages (from httpcore==1.*->httpx<0.28.0,>=0.27.0->ollama<1,>=0.3.0->langchain_ollama) (0.14.0)\n",
      "Requirement already satisfied: jsonpointer>=1.9 in c:\\users\\user\\onedrive\\maestria\\proyecto integrador\\proyecto_integrador_equipo_27\\.venv\\lib\\site-packages (from jsonpatch<2.0,>=1.33->langchain-core<0.4.0,>=0.3.0->langchain_ollama) (3.0.0)\n",
      "Requirement already satisfied: orjson<4.0.0,>=3.9.14 in c:\\users\\user\\onedrive\\maestria\\proyecto integrador\\proyecto_integrador_equipo_27\\.venv\\lib\\site-packages (from langsmith<0.2.0,>=0.1.125->langchain-core<0.4.0,>=0.3.0->langchain_ollama) (3.10.7)\n",
      "Requirement already satisfied: requests<3,>=2 in c:\\users\\user\\onedrive\\maestria\\proyecto integrador\\proyecto_integrador_equipo_27\\.venv\\lib\\site-packages (from langsmith<0.2.0,>=0.1.125->langchain-core<0.4.0,>=0.3.0->langchain_ollama) (2.28.1)\n",
      "Requirement already satisfied: requests-toolbelt<2.0.0,>=1.0.0 in c:\\users\\user\\onedrive\\maestria\\proyecto integrador\\proyecto_integrador_equipo_27\\.venv\\lib\\site-packages (from langsmith<0.2.0,>=0.1.125->langchain-core<0.4.0,>=0.3.0->langchain_ollama) (1.0.0)\n",
      "Requirement already satisfied: annotated-types>=0.6.0 in c:\\users\\user\\onedrive\\maestria\\proyecto integrador\\proyecto_integrador_equipo_27\\.venv\\lib\\site-packages (from pydantic<3.0.0,>=2.5.2->langchain-core<0.4.0,>=0.3.0->langchain_ollama) (0.7.0)\n",
      "Requirement already satisfied: pydantic-core==2.23.4 in c:\\users\\user\\onedrive\\maestria\\proyecto integrador\\proyecto_integrador_equipo_27\\.venv\\lib\\site-packages (from pydantic<3.0.0,>=2.5.2->langchain-core<0.4.0,>=0.3.0->langchain_ollama) (2.23.4)\n",
      "Requirement already satisfied: charset-normalizer<3,>=2 in c:\\users\\user\\onedrive\\maestria\\proyecto integrador\\proyecto_integrador_equipo_27\\.venv\\lib\\site-packages (from requests<3,>=2->langsmith<0.2.0,>=0.1.125->langchain-core<0.4.0,>=0.3.0->langchain_ollama) (2.1.1)\n",
      "Requirement already satisfied: urllib3<1.27,>=1.21.1 in c:\\users\\user\\onedrive\\maestria\\proyecto integrador\\proyecto_integrador_equipo_27\\.venv\\lib\\site-packages (from requests<3,>=2->langsmith<0.2.0,>=0.1.125->langchain-core<0.4.0,>=0.3.0->langchain_ollama) (1.26.13)\n"
     ]
    }
   ],
   "source": [
    "!pip install langchain_community\n",
    "!pip install InstructorEmbedding\n",
    "!pip install sentence-transformers==2.2.2\n",
    "!pip install pip install pypdf\n",
    "!pip install chromadb\n",
    "!pip install langchain_ollama"
   ]
  },
  {
   "cell_type": "code",
   "execution_count": 2,
   "metadata": {},
   "outputs": [
    {
     "name": "stderr",
     "output_type": "stream",
     "text": [
      "c:\\Users\\USER\\OneDrive\\maestria\\Proyecto Integrador\\proyecto_integrador_equipo_27\\.venv\\Lib\\site-packages\\InstructorEmbedding\\instructor.py:7: TqdmWarning: IProgress not found. Please update jupyter and ipywidgets. See https://ipywidgets.readthedocs.io/en/stable/user_install.html\n",
      "  from tqdm.autonotebook import trange\n"
     ]
    }
   ],
   "source": [
    "import os\n",
    "from langchain_text_splitters import RecursiveCharacterTextSplitter\n",
    "import os\n",
    "#import dotenv\n",
    "from tqdm import tqdm\n",
    "from langchain_community.vectorstores import Chroma\n",
    "from langchain_community.document_loaders import PyPDFLoader\n",
    "\n",
    "## To run Hugging Face OpenSource models\n",
    "# Needs to manually install Visual C++ Tools from: https://visualstudio.microsoft.com/visual-cpp-build-tools/\n",
    "from InstructorEmbedding import INSTRUCTOR\n",
    "from langchain_community.embeddings import HuggingFaceInstructEmbeddings\n",
    "import warnings\n",
    "\n",
    "# Suppress all warnings\n",
    "warnings.filterwarnings(\"ignore\")"
   ]
  },
  {
   "cell_type": "code",
   "execution_count": 3,
   "metadata": {},
   "outputs": [
    {
     "name": "stdout",
     "output_type": "stream",
     "text": [
      "CUDA Available: True\n",
      "Device Name: NVIDIA GeForce RTX 3050\n"
     ]
    }
   ],
   "source": [
    "import torch\n",
    "import torch.nn as nn\n",
    "\n",
    "# Check if CUDA is available\n",
    "print(f\"CUDA Available: {torch.cuda.is_available()}\")\n",
    "\n",
    "# Print CUDA device name\n",
    "if torch.cuda.is_available():\n",
    "    print(f\"Device Name: {torch.cuda.get_device_name(0)}\")"
   ]
  },
  {
   "cell_type": "code",
   "execution_count": 4,
   "metadata": {},
   "outputs": [
    {
     "name": "stdout",
     "output_type": "stream",
     "text": [
      "cuda\n"
     ]
    }
   ],
   "source": [
    "# Ensure GPU is available\n",
    "device = torch.device(\"cuda\" if torch.cuda.is_available() else \"cpu\")\n",
    "print(device)"
   ]
  },
  {
   "cell_type": "markdown",
   "metadata": {},
   "source": [
    "### 2.- Chunking\n",
    "Is the process of breaking down a large input text into smaller pieces.\n",
    "This ensures that the text fits the input size of the embedding model and improves retrieval efficiency."
   ]
  },
  {
   "cell_type": "code",
   "execution_count": 5,
   "metadata": {},
   "outputs": [
    {
     "name": "stdout",
     "output_type": "stream",
     "text": [
      "Total number of documents extracted: 429\n"
     ]
    }
   ],
   "source": [
    "# Define the directory containing the PDF files\n",
    "pdf_directory = r\"../WebScrap_PDFs\"\n",
    "\n",
    "# Define the persistent directory containing the VectorDB\n",
    "persistent_dir= \"VectorDB/HS_codes/model_WebScrapping_PDFs\"\n",
    "\n",
    "# WARNING! :Only runs with this version\n",
    "###### !pip install sentence-transformers==2.2.2  ######\n",
    "#Define the sentence-transformer model:\n",
    "#For English\n",
    "#sentence-transformers/LaBSE\n",
    "#embed_model = \"sentence-transformers/all-MiniLM-L6-v2\"\n",
    "embed_model = \"sentence-transformers/all-mpnet-base-v2\"\n",
    "#embed_model = \"w601sxs/b1ade-embed\"\n",
    "#embed_model = \"jinaai/jina-embeddings-v3\"\n",
    "#embed_model = \"WhereIsAI/UAE-Large-V1\"\n",
    "\n",
    "#embed_model = \"nvidia/NV-Embed-v2\" #Needs sentence transfomer pip upgrade\n",
    "#embed_model = \"dunzhang/stella_en_1.5B_v5\"\n",
    "#embed_model = \"Salesforce/SFR-Embedding-2_R\"\n",
    "#embed_model = \"Alibaba-NLP/gte-large-en-v1.5\"\n",
    "\n",
    "\n",
    "#For Spanish \n",
    "#projecte-aina/aguila-7b\n",
    "#embed_model = \"hiiamsid/sentence_similarity_spanish_es\"\n",
    "\n",
    "#Other sentence-transformer settings\n",
    "model_kwargs = {'device': 'cuda:0'}  # specify GPU device\n",
    "encode_kwargs = {'normalize_embeddings': True}\n",
    "\n",
    "# Initialize an empty list to store all the extracted documents\n",
    "all_documents = []\n",
    "\n",
    "# Iterate over all files in the directory\n",
    "for filename in os.listdir(pdf_directory):\n",
    "    # Check if the file is a PDF\n",
    "    if filename.endswith(\".pdf\"):\n",
    "        # Create the full file path\n",
    "        file_path = os.path.join(pdf_directory, filename)\n",
    "        \n",
    "        # Load the PDF using PyPDFLoader\n",
    "        loader = PyPDFLoader(file_path)\n",
    "        \n",
    "        # Load the documents from the PDF\n",
    "        documents = loader.load()\n",
    "        \n",
    "        # Add the documents to the list of all_documents\n",
    "        all_documents.extend(documents)\n",
    "\n",
    "# Print the number of documents extracted\n",
    "print(f\"Total number of documents extracted: {len(all_documents)}\")"
   ]
  },
  {
   "cell_type": "code",
   "execution_count": 6,
   "metadata": {},
   "outputs": [
    {
     "name": "stdout",
     "output_type": "stream",
     "text": [
      "page_content=' \n",
      " \n",
      "Section  I \n",
      " \n",
      "LIVE ANIMALS; ANIMAL PRODUCTS  \n",
      " \n",
      "Notes.  \n",
      "1.- Any reference in this Section  to a particular genus or species of an animal, except where the context \n",
      "otherwise requires, includes a reference to the young of that genus or species.  \n",
      "2.- Except where th e context otherwise requires, throughout the Nomenclature any reference to “dried” \n",
      "products also covers products which have been dehydrated, evaporated or freeze -dried.  \n",
      "_________________  ' metadata={'source': '../WebScrap_PDFs\\\\0100_2022e_Section Notes.pdf', 'page': 0}\n"
     ]
    }
   ],
   "source": [
    "print(all_documents[0])"
   ]
  },
  {
   "cell_type": "code",
   "execution_count": 7,
   "metadata": {},
   "outputs": [],
   "source": [
    "text_splitter = RecursiveCharacterTextSplitter(chunk_size=30, chunk_overlap=3)\n",
    "chunks = text_splitter.split_documents(all_documents)\n",
    "#print(chunks)"
   ]
  },
  {
   "cell_type": "markdown",
   "metadata": {},
   "source": [
    "### 3.- Embedding\n",
    "\n",
    "A technique for representing text data as numerical vectors, which can be input into machine learning models. The embedding model is responsible for converting text into these vectors."
   ]
  },
  {
   "cell_type": "code",
   "execution_count": 8,
   "metadata": {},
   "outputs": [
    {
     "name": "stdout",
     "output_type": "stream",
     "text": [
      "load INSTRUCTOR_Transformer\n",
      "max_seq_length  512\n"
     ]
    }
   ],
   "source": [
    "#Only runs with this version\n",
    "#!pip install sentence-transformers==2.2.2\n",
    "\n",
    "hf_embed_model = HuggingFaceInstructEmbeddings(\n",
    "    model_name=embed_model,\n",
    "    model_kwargs=model_kwargs,\n",
    "    encode_kwargs=encode_kwargs\n",
    ")"
   ]
  },
  {
   "cell_type": "markdown",
   "metadata": {},
   "source": [
    "### 4.- Vector DB\n",
    "\n",
    "A collection of pre-computed vector representations of text data for fast retrieval and similarity search, with capabilities like CRUD operations, metadata filtering, and horizontal scaling."
   ]
  },
  {
   "cell_type": "code",
   "execution_count": 9,
   "metadata": {},
   "outputs": [
    {
     "name": "stderr",
     "output_type": "stream",
     "text": [
      "Creating embeddings...: 100%|██████████| 34429/34429 [18:33<00:00, 30.91it/s]   \n"
     ]
    }
   ],
   "source": [
    "#With progress bar workaround\n",
    "vector_db = None\n",
    "with tqdm(total=len(chunks), desc=\"Creating embeddings...\") as pbar:\n",
    "    for d in chunks:\n",
    "        if vector_db:\n",
    "            vector_db.add_documents([d])\n",
    "        else:\n",
    "            #When no GPU is available\n",
    "            #vector_db = Chroma.from_documents([d],embed_model, persist_directory=persistent_dir )\n",
    "            \n",
    "            #To enable embeddings running on GPU\n",
    "            vector_db = Chroma.from_documents([d],hf_embed_model, persist_directory=persistent_dir)\n",
    "        pbar.update(1)"
   ]
  },
  {
   "cell_type": "markdown",
   "metadata": {},
   "source": [
    "### Simple test over Vector DB\n",
    "\n",
    "This response would contain the answer to that question, this needs to be sent to the LLM to paraphrase and extract only the needed info"
   ]
  },
  {
   "cell_type": "code",
   "execution_count": 10,
   "metadata": {},
   "outputs": [
    {
     "name": "stdout",
     "output_type": "stream",
     "text": [
      "[Document(metadata={'page': 0, 'source': '../WebScrap_PDFs\\\\1582_2022e_Tools, implements, cutlery, spoons and forks, of base metal; parts thereof of base metal.pdf'}, page_content='Heading  H.S.  \\nCode'), Document(metadata={'page': 2, 'source': '../WebScrap_PDFs\\\\1582_2022e_Tools, implements, cutlery, spoons and forks, of base metal; parts thereof of base metal.pdf'}, page_content='Heading  H.S.  \\nCode'), Document(metadata={'page': 4, 'source': '../WebScrap_PDFs\\\\1684_2022e_Nuclear reactors, boilers, machinery and mechanical appliances; parts thereof.pdf'}, page_content='Heading  H.S.  \\nCode'), Document(metadata={'page': 10, 'source': '../WebScrap_PDFs\\\\1684_2022e_Nuclear reactors, boilers, machinery and mechanical appliances; parts thereof.pdf'}, page_content='Heading  H.S.  \\nCode')]\n"
     ]
    }
   ],
   "source": [
    "question = \"What is an HS code? \"\n",
    "docs = vector_db.similarity_search(question)\n",
    "print(docs)"
   ]
  },
  {
   "cell_type": "markdown",
   "metadata": {},
   "source": [
    "### Q&A Chain\n",
    "\n",
    "This will run peristantly, consulting already stored vectors"
   ]
  },
  {
   "cell_type": "markdown",
   "metadata": {},
   "source": [
    "### Using a LLM Chain to provide context and system prompts on every query"
   ]
  },
  {
   "cell_type": "code",
   "execution_count": 12,
   "metadata": {},
   "outputs": [
    {
     "name": "stdout",
     "output_type": "stream",
     "text": [
      "load INSTRUCTOR_Transformer\n",
      "max_seq_length  512\n",
      "The response of the LLM is:  The suggested HS code is: 0103.10\n"
     ]
    }
   ],
   "source": [
    "#from langchain_chroma import Chroma\n",
    "from langchain_community.vectorstores import Chroma\n",
    "\n",
    "#For some reason, \"context\" cant be used as input variable, it should be named as \"summaries\"\n",
    "from langchain.chains import RetrievalQAWithSourcesChain\n",
    "from langchain_ollama import OllamaLLM\n",
    "from langchain.prompts import PromptTemplate\n",
    "\n",
    "##### Embedding model (sentence-transformer)\n",
    "model_name = embed_model\n",
    "model_kwargs = {'device': 'cuda:0'}  # specify GPU device\n",
    "encode_kwargs = {'normalize_embeddings': True}\n",
    "hf_embed_model = HuggingFaceInstructEmbeddings(\n",
    "    model_name=model_name,\n",
    "    model_kwargs=model_kwargs,\n",
    "    encode_kwargs=encode_kwargs\n",
    ")\n",
    "\n",
    "##### LLM model\n",
    "# loading the Llama3 model from local\n",
    "llm_model = OllamaLLM(model=\"llama3.1\",\n",
    "                temperature=0.2,\n",
    "                num_thread=8,\n",
    "                )\n",
    "# loading the vectorstore\n",
    "vectorstore = Chroma(persist_directory=persistent_dir, embedding_function=hf_embed_model)\n",
    "# casting  the vectorstore as the retriever, taking the best 3 similarities\n",
    "retriever = vectorstore.as_retriever(search_kwargs={\"k\":5})\n",
    "\n",
    "# formating the docs\n",
    "def format_docs(docs):\n",
    "    return \"\\n\\n\".join(doc.page_content for doc in docs)\n",
    "\n",
    "template = \"\"\"Always answer in English. \n",
    "If you can infer an specific code (based on a very good match) you must respond only with this kind fo format \"XXXX.XX\" and answer it at the beggining with: \n",
    "\"The suggested HS code is: \" \n",
    "\n",
    "In the case you can't find a matching code for the description, respond with:\n",
    "'Your inquiry is very subjective, to provide an accurate HS Code I need you to be more specific, please include size, weight, origin, meaning of use, etc. \n",
    "So far, I can narrow it to this chapters/parts : 'provide 3 possible codes\".\n",
    "\n",
    "context:\n",
    "{summaries}\n",
    "\n",
    "Question:\n",
    "{question}\n",
    "\"\"\"\n",
    "\n",
    "# Define the LLM chain (using the Llama3.1 model)\n",
    "llm_chain = RetrievalQAWithSourcesChain.from_chain_type(\n",
    "    llm=llm_model,\n",
    "    chain_type='stuff',\n",
    "    retriever=retriever,\n",
    "    return_source_documents=True,  # To get both the answer and source docs\n",
    "    chain_type_kwargs={\n",
    "            \"prompt\": PromptTemplate(\n",
    "                template=template,\n",
    "                #For some reason, \"context\" cant be used as input variable, it should be named as \"summaries\"\n",
    "                input_variables=[\"question\", \"summaries\"],\n",
    "            ),\n",
    "        },\n",
    ")\n",
    "\n",
    "context = \"\"\"As a logistics shipping arrival inspector, your primary responsibility is to inspect incoming shipments and accurately classify goods \n",
    "using the Harmonized System (HS) code based on the descriptions provided in the shipping manifests. You will thoroughly review the manifest details, \n",
    "including product type, material composition, function, and intended use, to determine the correct HS code. \n",
    "\n",
    "Your task is to:\n",
    "Carefully read and analyze the product descriptions from the manifest.\n",
    "Identify key characteristics of the goods, such as \n",
    "type (e.g., electronics, textiles, machinery), \n",
    "material (e.g., plastic, metal, organic), \n",
    "and usage (e.g., household, industrial, medical).\n",
    "Use your knowledge of the HS code classification system to assign the most appropriate HS code for each product based on its description.\n",
    "Ensure compliance with international trade regulations by selecting precise codes to avoid delays or penalties.\n",
    "Remember to be thorough and accurate in your classification, as this impacts customs processing, tariffs, and legal requirements.\"\"\"\n",
    "\n",
    "#-----Benchmark query------\n",
    "#Response should be: \"0106.19\" \n",
    "#query = \"Live Dog\"\n",
    "query = \"A Live Dog of breed Schnauzer from Germany\"\n",
    "#query = \"Live Pig\"\n",
    "#query = \"Live Buffalo\"\n",
    "#query = \"What HS Code belongs to a wrench?\"\n",
    "#query = \"What HS Code belongs to a live dog?\"\n",
    "#query = \"What HS Code belongs to:'CERAMIC TABLEWARE  2688 BOXES PO 5 39548'?\"\n",
    "#query = \"Covers for cellphone screen\"\n",
    "\n",
    "# Execute the chain with the query\n",
    "#For some reason, \"context\" cant be used as input variable, it should be named as \"summaries\"\n",
    "result = llm_chain({\"question\": query, \"summaries\": context})\n",
    "\n",
    "# Process the results\n",
    "#print(result.keys())\n",
    "print(\"The response of the LLM is: \", result[\"answer\"])\n",
    "\n",
    "#print(\"The documents content used for this response are:\")\n",
    "#for i in range(len(result[\"source_documents\"])):\n",
    "#    print(result[\"source_documents\"][i].page_content)\n",
    "\n",
    "     \n",
    "#results = vectorstore.similarity_search_with_score(query=query, k=5)\n",
    "## Print similarity results\n",
    "#for doc, score in results:\n",
    "#    print(f\"Document content: {doc.page_content}, Similarity Score: {score}\")\n",
    "\n"
   ]
  },
  {
   "cell_type": "code",
   "execution_count": null,
   "metadata": {},
   "outputs": [],
   "source": []
  }
 ],
 "metadata": {
  "kernelspec": {
   "display_name": ".venv",
   "language": "python",
   "name": "python3"
  },
  "language_info": {
   "codemirror_mode": {
    "name": "ipython",
    "version": 3
   },
   "file_extension": ".py",
   "mimetype": "text/x-python",
   "name": "python",
   "nbconvert_exporter": "python",
   "pygments_lexer": "ipython3",
   "version": "3.11.4"
  }
 },
 "nbformat": 4,
 "nbformat_minor": 2
}
