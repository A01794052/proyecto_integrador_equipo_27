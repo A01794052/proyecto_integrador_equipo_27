{
 "cells": [
  {
   "cell_type": "code",
   "execution_count": 3,
   "metadata": {},
   "outputs": [
    {
     "name": "stdout",
     "output_type": "stream",
     "text": [
      "Files filtered and merged successfully into Filtered_Merged_Prediction_vs_Expected.csv\n"
     ]
    }
   ],
   "source": [
    "import pandas as pd\n",
    "import os\n",
    "\n",
    "# Define the folder where the files are stored\n",
    "folder_path = '../'  # Replace this with the actual path\n",
    "\n",
    "# List of files to be merged\n",
    "file_names = [\n",
    "    'Prediction_vs_Expected_TestA.csv',\n",
    "    'Prediction_vs_Expected_TestB.csv',\n",
    "    'Prediction_vs_Expected_TestC.csv',\n",
    "    'Prediction_vs_Expected_TestD.csv',\n",
    "    'Prediction_vs_Expected_TestE.csv',\n",
    "    'Prediction_vs_Expected_TestF.csv'\n",
    "]\n",
    "\n",
    "# List to hold filtered dataframes\n",
    "filtered_dfs = []\n",
    "\n",
    "# Loop through each file, read, filter and append the dataframe to the list\n",
    "for file_name in file_names:\n",
    "    file_path = os.path.join(folder_path, file_name)\n",
    "    df = pd.read_csv(file_path)\n",
    "    \n",
    "    # Filter rows where 'CorrectMatch_two_digits' is 1\n",
    "    filtered_df = df[df['CorrectMatch_two_digits'] == 1]\n",
    "    \n",
    "    # Append the filtered dataframe to the list\n",
    "    filtered_dfs.append(filtered_df)\n",
    "\n",
    "# Concatenate all filtered dataframes\n",
    "merged_filtered_df = pd.concat(filtered_dfs, ignore_index=True)\n",
    "#Borrar duplicados en base a 1er columna\n",
    "merged_filtered_df = merged_filtered_df.drop_duplicates(subset=df.columns[0])\n",
    "# Save the merged and filtered dataframe to a new CSV file\n",
    "merged_filtered_df.to_csv(os.path.join(folder_path, 'Filtered_Merged_Prediction_vs_Expected.csv'), index=False)\n",
    "\n",
    "print(\"Files filtered and merged successfully into Filtered_Merged_Prediction_vs_Expected.csv\")\n"
   ]
  }
 ],
 "metadata": {
  "kernelspec": {
   "display_name": ".venv",
   "language": "python",
   "name": "python3"
  },
  "language_info": {
   "codemirror_mode": {
    "name": "ipython",
    "version": 3
   },
   "file_extension": ".py",
   "mimetype": "text/x-python",
   "name": "python",
   "nbconvert_exporter": "python",
   "pygments_lexer": "ipython3",
   "version": "3.11.4"
  }
 },
 "nbformat": 4,
 "nbformat_minor": 2
}
